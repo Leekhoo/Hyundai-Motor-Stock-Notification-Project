{
 "cells": [
  {
   "cell_type": "code",
   "execution_count": 15,
   "id": "c7b41645",
   "metadata": {},
   "outputs": [
    {
     "name": "stdout",
     "output_type": "stream",
     "text": [
      "Requirement already satisfied: beautifulsoup4 in /Users/leekyeongho/anaconda3/lib/python3.11/site-packages (4.12.2)\n",
      "Requirement already satisfied: pandas in /Users/leekyeongho/anaconda3/lib/python3.11/site-packages (1.5.3)\n",
      "Requirement already satisfied: soupsieve>1.2 in /Users/leekyeongho/anaconda3/lib/python3.11/site-packages (from beautifulsoup4) (2.4)\n",
      "Requirement already satisfied: python-dateutil>=2.8.1 in /Users/leekyeongho/anaconda3/lib/python3.11/site-packages (from pandas) (2.8.2)\n",
      "Requirement already satisfied: pytz>=2020.1 in /Users/leekyeongho/anaconda3/lib/python3.11/site-packages (from pandas) (2022.7)\n",
      "Requirement already satisfied: numpy>=1.21.0 in /Users/leekyeongho/anaconda3/lib/python3.11/site-packages (from pandas) (1.24.3)\n",
      "Requirement already satisfied: six>=1.5 in /Users/leekyeongho/anaconda3/lib/python3.11/site-packages (from python-dateutil>=2.8.1->pandas) (1.16.0)\n",
      "Note: you may need to restart the kernel to use updated packages.\n"
     ]
    }
   ],
   "source": [
    "pip install beautifulsoup4 pandas"
   ]
  },
  {
   "cell_type": "code",
   "execution_count": 60,
   "id": "3a623b9e",
   "metadata": {},
   "outputs": [],
   "source": [
    "import requests\n",
    "from bs4 import BeautifulSoup\n",
    "import pandas as pd\n",
    "from datetime import datetime"
   ]
  },
  {
   "cell_type": "code",
   "execution_count": 51,
   "id": "d59d40a5",
   "metadata": {},
   "outputs": [],
   "source": [
    "# 네이버 주식 페이지 URL\n",
    "stock_url = 'https://finance.naver.com/item/main.nhn?code=005380'  # 현대자동차 종목 코드\n",
    "\n",
    "response = requests.get(stock_url)\n",
    "soup = BeautifulSoup(response.content, 'html.parser')"
   ]
  },
  {
   "cell_type": "code",
   "execution_count": 52,
   "id": "f0bf9bb5",
   "metadata": {},
   "outputs": [],
   "source": [
    "# 재무 데이터가 있는 섹션 찾기\n",
    "financial_section = soup.find('div', {'class': 'cop_analysis'})\n",
    "financial_section1 = financial_section.find('div', {'class': 'sub_section'})\n",
    "table = financial_section1.find('table', class_='tb_type1')"
   ]
  },
  {
   "cell_type": "code",
   "execution_count": 53,
   "id": "71174b30",
   "metadata": {
    "scrolled": true
   },
   "outputs": [],
   "source": [
    "data = []\n",
    "header_row = table.find('thead').find_all('th', scope='col')\n",
    "header = [cell.get_text(strip=True) for cell in header_row if not any(item in cell.get_text() for item in [\"IFRS연결\", \"최근 연간 실적\", \"최근 분기 실적\"])]\n",
    "data.append(header)"
   ]
  },
  {
   "cell_type": "code",
   "execution_count": 54,
   "id": "ec31ef42",
   "metadata": {},
   "outputs": [
    {
     "data": {
      "text/plain": [
       "[['2020.12',\n",
       "  '2021.12',\n",
       "  '2022.12',\n",
       "  '2023.12(E)',\n",
       "  '2022.03',\n",
       "  '2022.06',\n",
       "  '2022.09',\n",
       "  '2022.12',\n",
       "  '2023.03',\n",
       "  '2023.06(E)']]"
      ]
     },
     "execution_count": 54,
     "metadata": {},
     "output_type": "execute_result"
    }
   ],
   "source": [
    "data"
   ]
  },
  {
   "cell_type": "code",
   "execution_count": 55,
   "id": "8775548b",
   "metadata": {},
   "outputs": [],
   "source": [
    "data_table = table.find('tbody')\n",
    "rows = data_table.find_all('tr')\n",
    "\n",
    "for row in rows:\n",
    "    row_data = [cell.get_text(strip=True) if cell.get_text(strip=True) != '' else '0' for cell in row.find_all(['td', 'th'])]\n",
    "    data.append(row_data)"
   ]
  },
  {
   "cell_type": "code",
   "execution_count": 56,
   "id": "a38421da",
   "metadata": {},
   "outputs": [],
   "source": [
    "data[0].insert(0, '주요재무정보')"
   ]
  },
  {
   "cell_type": "code",
   "execution_count": 59,
   "id": "47c8f895",
   "metadata": {},
   "outputs": [
    {
     "name": "stdout",
     "output_type": "stream",
     "text": [
      "             2020.12    2021.12    2022.12 2023.12(E)   2022.03   2022.06  \\\n",
      "주요재무정보                                                                      \n",
      "매출액        1,039,976  1,176,106  1,425,275  1,598,305   302,986   359,999   \n",
      "영업이익          23,947     66,789     98,198    145,970    19,289    29,798   \n",
      "당기순이익         19,246     56,931     79,836    125,254    17,774    30,848   \n",
      "영업이익률           2.30       5.68       6.89       9.13      6.37      8.28   \n",
      "순이익률            1.85       4.84       5.60       7.84      5.87      8.57   \n",
      "ROE(지배주주)       2.04       6.84       9.36      13.54      7.11      8.14   \n",
      "부채비율          174.22     183.17     181.36          0    183.82    182.65   \n",
      "당좌비율           44.87      45.68      51.97          0     49.35     48.01   \n",
      "유보율         4,909.48   5,187.27   5,654.49          0  5,226.60  5,417.45   \n",
      "EPS(원)         5,144     17,846     26,592     43,012     5,723    10,123   \n",
      "PER(배)         37.33      11.71       5.68       4.33      9.61      8.01   \n",
      "BPS(원)       266,968    289,609    315,142    351,276   293,618   312,476   \n",
      "PBR(배)          0.72       0.72       0.48       0.53      0.61      0.58   \n",
      "주당배당금(원)       3,000      5,000      7,000     10,522         0         0   \n",
      "시가배당률(%)        1.56       2.39       4.64          0         0         0   \n",
      "배당성향(%)        55.15      26.32      24.85          0         0         0   \n",
      "\n",
      "            2022.09   2022.12   2023.03 2023.06(E)  \n",
      "주요재무정보                                              \n",
      "매출액         377,054   385,236   377,787    404,173  \n",
      "영업이익         15,518    33,592    35,927     38,775  \n",
      "당기순이익        14,115    17,099    34,194     32,872  \n",
      "영업이익률          4.12      8.72      9.51       9.59  \n",
      "순이익률           3.74      4.44      9.05       8.13  \n",
      "ROE(지배주주)      7.81      9.36     11.30          0  \n",
      "부채비율         188.22    181.36    181.48          0  \n",
      "당좌비율          49.81     51.97     53.70          0  \n",
      "유보율        5,507.25  5,654.49  5,744.90          0  \n",
      "EPS(원)        4,592     6,154    12,034     11,181  \n",
      "PER(배)         7.88      5.68      5.61      17.89  \n",
      "BPS(원)      323,836   315,142   325,473          0  \n",
      "PBR(배)         0.55      0.48      0.57          0  \n",
      "주당배당금(원)          0         0         0          0  \n",
      "시가배당률(%)          0         0         0          0  \n",
      "배당성향(%)           0         0         0          0  \n"
     ]
    }
   ],
   "source": [
    "df = pd.DataFrame(data[1:], columns=data[0])\n",
    "df = df.set_index('주요재무정보')\n",
    "print(df)"
   ]
  },
  {
   "cell_type": "code",
   "execution_count": 61,
   "id": "e0eafb52",
   "metadata": {},
   "outputs": [],
   "source": [
    "# 현재 날짜를 파일 이름으로 사용\n",
    "current_date = datetime.now().strftime('%Y-%m-%d')"
   ]
  },
  {
   "cell_type": "code",
   "execution_count": 62,
   "id": "35061b40",
   "metadata": {},
   "outputs": [],
   "source": [
    "# 파일 경로 지정\n",
    "file_path = f\"/Users/leekyeongho/python/주식/{current_date}_financial_data.xlsx\""
   ]
  },
  {
   "cell_type": "code",
   "execution_count": 63,
   "id": "4bfbeda4",
   "metadata": {},
   "outputs": [
    {
     "name": "stdout",
     "output_type": "stream",
     "text": [
      "데이터프레임을 /Users/leekyeongho/python/주식/2023-08-22_financial_data.xlsx에 저장했습니다.\n"
     ]
    }
   ],
   "source": [
    "# 엑셀 파일로 저장\n",
    "df.to_excel(file_path)\n",
    "print(f\"데이터프레임을 {file_path}에 저장했습니다.\")"
   ]
  },
  {
   "cell_type": "code",
   "execution_count": null,
   "id": "208e84a0",
   "metadata": {},
   "outputs": [],
   "source": []
  }
 ],
 "metadata": {
  "kernelspec": {
   "display_name": "Python 3 (ipykernel)",
   "language": "python",
   "name": "python3"
  },
  "language_info": {
   "codemirror_mode": {
    "name": "ipython",
    "version": 3
   },
   "file_extension": ".py",
   "mimetype": "text/x-python",
   "name": "python",
   "nbconvert_exporter": "python",
   "pygments_lexer": "ipython3",
   "version": "3.11.4"
  }
 },
 "nbformat": 4,
 "nbformat_minor": 5
}
