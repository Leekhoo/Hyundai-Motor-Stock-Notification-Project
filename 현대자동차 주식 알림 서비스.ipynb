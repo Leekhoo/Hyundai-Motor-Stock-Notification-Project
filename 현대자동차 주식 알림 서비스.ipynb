{
 "cells": [
  {
   "cell_type": "code",
   "execution_count": 1,
   "id": "38fef154",
   "metadata": {},
   "outputs": [],
   "source": [
    "import yfinance as yf\n",
    "import smtplib\n",
    "from email.mime.text import MIMEText\n",
    "import datetime\n",
    "import schedule\n",
    "import time"
   ]
  },
  {
   "cell_type": "code",
   "execution_count": 2,
   "id": "b19c3ed0",
   "metadata": {},
   "outputs": [],
   "source": [
    "# 현대자동차의 Ticker Symbol (Stock Code)\n",
    "stock_code = \"005380.KS\"  # 현대자동차의 Ticker Symbol"
   ]
  },
  {
   "cell_type": "code",
   "execution_count": 3,
   "id": "988aae8e",
   "metadata": {},
   "outputs": [],
   "source": [
    "# Gmail 계정 설정\n",
    "sender_email = \"nananakh778155@gmail.com\"  # 발신자 이메일 주소\n",
    "sender_password = \"lwiwxvbzanvlvjyr\"  # 발신자 이메일 비밀번호\n",
    "receiver_email = \"nananakh7781@naver.com\"  # 수신자 이메일 주소"
   ]
  },
  {
   "cell_type": "code",
   "execution_count": 4,
   "id": "afa70afb",
   "metadata": {},
   "outputs": [],
   "source": [
    "# 이메일 발송 함수\n",
    "def send_email(subject, body):\n",
    "    msg = MIMEText(body)\n",
    "    msg[\"Subject\"] = subject\n",
    "    msg[\"From\"] = sender_email\n",
    "    msg[\"To\"] = receiver_email\n",
    "\n",
    "    server = smtplib.SMTP(\"smtp.gmail.com\", 587)\n",
    "    server.starttls()\n",
    "    server.login(sender_email, sender_password)\n",
    "    server.sendmail(sender_email, receiver_email, msg.as_string())\n",
    "    server.quit()"
   ]
  },
  {
   "cell_type": "code",
   "execution_count": 5,
   "id": "195e90c9",
   "metadata": {},
   "outputs": [],
   "source": [
    "# 주식 가격 모니터링 및 메일 발송 함수\n",
    "def monitor_stock_price():\n",
    "    now = datetime.datetime.now()\n",
    "    current_time = now.strftime(\"%Y-%m-%d %H:%M:%S\")\n",
    "\n",
    "    stock = yf.Ticker(stock_code)\n",
    "    current_price = stock.history(period=\"1d\")[\"Close\"][0]\n",
    "    current_price_formatted = \"{:,.0f}\".format(current_price)\n",
    "\n",
    "    subject = \"현대 자동차 주식 가격\"\n",
    "    body = f\"주식 가격 확인 시간 : {current_time}\\n현대 자동차 주식 가격 : {current_price_formatted}\"\n",
    "\n",
    "    send_email(subject, body)\n",
    "\n",
    "    if current_price >= 200000:\n",
    "        high_price_subject = \"주식 가격 상승 알림\"\n",
    "        high_price_body = f\"현재 주식 가격이 20만원 이상입니다. 현재 가격: {current_price}\"\n",
    "        send_email(high_price_subject, high_price_body)"
   ]
  },
  {
   "cell_type": "code",
   "execution_count": 6,
   "id": "5690fbde",
   "metadata": {},
   "outputs": [],
   "source": [
    "# 스케줄링 함수\n",
    "def schedule_monitor():\n",
    "    schedule.every().day.at(\"09:00\").do(monitor_stock_price)  # 아침 9시에 실행\n",
    "    schedule.every().day.at(\"15:00\").do(monitor_stock_price)  # 오후 3시에 실행\n",
    "\n",
    "    while True:\n",
    "        schedule.run_pending()\n",
    "        time.sleep(1)"
   ]
  },
  {
   "cell_type": "code",
   "execution_count": null,
   "id": "2200f0d1",
   "metadata": {},
   "outputs": [],
   "source": [
    "if __name__ == \"__main__\":\n",
    "    schedule_monitor()"
   ]
  },
  {
   "cell_type": "code",
   "execution_count": null,
   "id": "e87d4501",
   "metadata": {},
   "outputs": [],
   "source": []
  }
 ],
 "metadata": {
  "kernelspec": {
   "display_name": "Python 3 (ipykernel)",
   "language": "python",
   "name": "python3"
  },
  "language_info": {
   "codemirror_mode": {
    "name": "ipython",
    "version": 3
   },
   "file_extension": ".py",
   "mimetype": "text/x-python",
   "name": "python",
   "nbconvert_exporter": "python",
   "pygments_lexer": "ipython3",
   "version": "3.11.4"
  }
 },
 "nbformat": 4,
 "nbformat_minor": 5
}
